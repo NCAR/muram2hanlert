{
 "cells": [
  {
   "cell_type": "markdown",
   "metadata": {},
   "source": [
    "# every10 Stats\n",
    "\n",
    "In this notebook we analyze some statistics from the every10 muram2hanlert computation"
   ]
  },
  {
   "cell_type": "code",
   "execution_count": 1,
   "metadata": {},
   "outputs": [],
   "source": [
    "import os\n",
    "import os.path\n",
    "import sys"
   ]
  },
  {
   "cell_type": "code",
   "execution_count": 2,
   "metadata": {},
   "outputs": [],
   "source": [
    "sys.path.extend([os.path.expanduser(\"~/muram/python_codes\"),\n",
    "                 os.path.expanduser(\"~/hanlert/python\"),\n",
    "                 os.path.expanduser(\"~\")])"
   ]
  },
  {
   "cell_type": "code",
   "execution_count": 3,
   "metadata": {},
   "outputs": [],
   "source": [
    "import numpy as np\n",
    "import matplotlib as mpl\n",
    "from matplotlib import pyplot as plt\n",
    "import shutil\n",
    "\n",
    "import muram\n",
    "import hanlert\n",
    "import muram2hanlert"
   ]
  },
  {
   "cell_type": "code",
   "execution_count": 4,
   "metadata": {},
   "outputs": [],
   "source": [
    "%matplotlib inline"
   ]
  },
  {
   "cell_type": "code",
   "execution_count": 5,
   "metadata": {},
   "outputs": [],
   "source": [
    "%load_ext autoreload"
   ]
  },
  {
   "cell_type": "code",
   "execution_count": 6,
   "metadata": {},
   "outputs": [],
   "source": [
    "%autoreload 2"
   ]
  },
  {
   "cell_type": "code",
   "execution_count": 7,
   "metadata": {},
   "outputs": [
    {
     "data": {
      "text/plain": [
       "272630"
      ]
     },
     "execution_count": 7,
     "metadata": {},
     "output_type": "execute_result"
    }
   ],
   "source": [
    "os.getpid() # for checking memory/CPU in terminal"
   ]
  },
  {
   "cell_type": "markdown",
   "metadata": {},
   "source": [
    "## Analyze every10 Jobs"
   ]
  },
  {
   "cell_type": "code",
   "execution_count": 8,
   "metadata": {},
   "outputs": [],
   "source": [
    "jobroot = os.path.expanduser(\"~/work/muram2hanlert\")\n",
    "jobname = 'every10'\n",
    "iteration = 12000"
   ]
  },
  {
   "cell_type": "code",
   "execution_count": 9,
   "metadata": {},
   "outputs": [
    {
     "data": {
      "text/plain": [
       "('OK', 597)"
      ]
     },
     "execution_count": 9,
     "metadata": {},
     "output_type": "execute_result"
    }
   ],
   "source": [
    "muram2hanlert.job_status(jobroot, jobname, iteration, 0, 0)"
   ]
  },
  {
   "cell_type": "code",
   "execution_count": 10,
   "metadata": {},
   "outputs": [],
   "source": [
    "run_status = muram2hanlert.run_status(jobroot, jobname)"
   ]
  },
  {
   "cell_type": "code",
   "execution_count": 11,
   "metadata": {},
   "outputs": [
    {
     "name": "stdout",
     "output_type": "stream",
     "text": [
      "N: 23409\n"
     ]
    }
   ],
   "source": [
    "N = len(run_status[iteration])\n",
    "print(\"N:\", N)"
   ]
  },
  {
   "cell_type": "code",
   "execution_count": 12,
   "metadata": {},
   "outputs": [
    {
     "name": "stdout",
     "output_type": "stream",
     "text": [
      "Job at (140, 960) has status STARTED in 15812.130417823792\n",
      "Job at (140, 970) has status STARTED in 15812.109112501144\n",
      "Job at (150, 960) has status STARTED in 14123.796450853348\n",
      "Job at (210, 400) has status STARTED in 5902.329728603363\n",
      "Job at (240, 0) has status STARTED in 5914.612651348114\n",
      "Job at (240, 580) has status STARTED in 13086.292612075806\n",
      "Job at (260, 590) has status STARTED in 11303.348128557205\n",
      "Job at (350, 660) has status STARTED in 10585.58318734169\n",
      "Job at (380, 10) has status STARTED in 12495.097200155258\n",
      "Job at (540, 140) has status STARTED in 5315.858439445496\n",
      "Job at (540, 1080) has status STARTED in 12494.932387590408\n",
      "Job at (560, 1110) has status STARTED in 69264.58112812042\n",
      "Job at (570, 1090) has status STARTED in 12082.841134786606\n",
      "Job at (570, 1100) has status STARTED in 12415.151743412018\n",
      "Job at (580, 1090) has status STARTED in 12340.355800628662\n",
      "Job at (580, 1100) has status STARTED in 69719.95054388046\n",
      "Job at (590, 1090) has status STARTED in 12423.698621749878\n",
      "Job at (660, 1080) has status STARTED in 5294.181145191193\n",
      "Job at (710, 670) has status STARTED in 5287.547478199005\n",
      "Job at (720, 670) has status STARTED in 5294.461524248123\n",
      "Job at (790, 180) has status STARTED in 11283.88605594635\n",
      "Job at (790, 610) has status STARTED in 5314.981689929962\n",
      "Job at (800, 240) has status STARTED in 5315.704959630966\n",
      "Job at (830, 350) has status STARTED in 11463.819962263107\n",
      "Job at (840, 60) has status STARTED in 12491.321608304977\n",
      "Job at (840, 110) has status STARTED in 61473.12628865242\n",
      "Job at (840, 420) has status STARTED in 5292.237875699997\n",
      "Job at (860, 90) has status STARTED in 63965.46599626541\n",
      "Job at (950, 90) has status STARTED in 61227.48829579353\n",
      "Job at (950, 320) has status STARTED in 5327.385610818863\n",
      "Job at (980, 280) has status STARTED in 61049.567115068436\n",
      "Job at (1020, 920) has status STARTED in 12542.98955655098\n",
      "Job at (1120, 1340) has status STARTED in 10362.65303015709\n",
      "Job at (1130, 1170) has status STARTED in 12551.03157901764\n",
      "Job at (1140, 500) has status STARTED in 12555.575645923615\n",
      "Job at (1140, 1040) has status STARTED in 12593.289649009705\n",
      "Job at (1150, 500) has status STARTED in 55665.50588798523\n",
      "Job at (1180, 1170) has status STARTED in 56715.24950528145\n",
      "Job at (1190, 410) has status STARTED in 12541.629445791245\n",
      "Job at (1200, 1490) has status STARTED in 5341.236736774445\n",
      "Job at (1200, 1510) has status STARTED in 5346.839289665222\n",
      "Job at (1220, 1180) has status STARTED in 55738.579709768295\n",
      "Job at (1220, 1510) has status STARTED in 5353.239156007767\n",
      "Job at (1220, 1520) has status STARTED in 5347.670122385025\n",
      "Job at (1260, 1000) has status STARTED in 5361.434271812439\n",
      "Job at (1260, 1190) has status STARTED in 12593.49006485939\n",
      "Job at (1320, 1110) has status STARTED in 12554.605146884918\n",
      "Job at (1330, 1520) has status STARTED in 5333.086831331253\n",
      "Job at (1380, 890) has status STARTED in 5342.967554569244\n",
      "Job at (1410, 570) has status STARTED in 5351.5984399318695\n",
      "Job at (1490, 860) has status STARTED in 5365.964333772659\n",
      "Job at (1510, 1360) has status STARTED in 5309.892412662506\n",
      "23357 of 23409 (99.78%) jobs finished OK\n"
     ]
    }
   ],
   "source": [
    "t_OK = []\n",
    "p_OK = []\n",
    "for (y, z), (status, t) in run_status[iteration].items():\n",
    "    if status == \"OK\":\n",
    "        t_OK.append(t)\n",
    "        p_OK.append((y, z))\n",
    "    else:\n",
    "        print(\"Job at\", (y, z), \"has status\", status, \"in\", t)\n",
    "t_OK = np.array(t_OK)\n",
    "p_OK = np.array(p_OK)\n",
    "ix_sort = np.argsort(t_OK)\n",
    "t_OK = t_OK[ix_sort]\n",
    "p_OK = p_OK[ix_sort]\n",
    "N_OK = t_OK.size\n",
    "print(f\"{N_OK} of {N} ({N_OK/N*100:0.2f}%) jobs finished OK\")"
   ]
  },
  {
   "cell_type": "code",
   "execution_count": 13,
   "metadata": {},
   "outputs": [
    {
     "name": "stdout",
     "output_type": "stream",
     "text": [
      "median time: 8.700 minutes\n",
      "total time: 4268.377 hours\n",
      "Core-hours: 1.537e+05 core-hours\n"
     ]
    },
    {
     "data": {
      "text/plain": [
       "Text(0.5, 1.0, 'Time of Completed Jobs')"
      ]
     },
     "execution_count": 13,
     "metadata": {},
     "output_type": "execute_result"
    },
    {
     "data": {
      "image/png": "[encoded data removed]",
      "text/plain": [
       "<Figure size 720x576 with 1 Axes>"
      ]
     },
     "metadata": {
      "needs_background": "light"
     },
     "output_type": "display_data"
    }
   ],
   "source": [
    "t_OK_med = np.median(t_OK / 60) # minutes\n",
    "t_OK_sum = np.sum(t_OK / 3600) # hours\n",
    "t_OK_ch = t_OK_sum * 36 # core-hours; used 36 cores per job\n",
    "\n",
    "print(f\"median time: {t_OK_med:0.3f} minutes\")\n",
    "print(f\"total time: {t_OK_sum:0.3f} hours\")\n",
    "print(f\"Core-hours: {t_OK_ch:0.3e} core-hours\")\n",
    "\n",
    "fig, ax = plt.subplots(figsize=(10, 8))\n",
    "ax.hist(t_OK / 60., bins=np.arange(0, 121, 1), histtype='step', color='k', lw=2)\n",
    "ax.axvline(t_OK_med, c='r')\n",
    "ax.set_xlabel(\"Minutes\")\n",
    "ax.set_ylabel(\"N jobs\")\n",
    "ax.set_title(\"Time of Completed Jobs\")"
   ]
  }
 ],
 "metadata": {
  "kernelspec": {
   "display_name": "CMIP6 2019.10",
   "language": "python",
   "name": "cmip6-201910"
  },
  "language_info": {
   "codemirror_mode": {
    "name": "ipython",
    "version": 3
   },
   "file_extension": ".py",
   "mimetype": "text/x-python",
   "name": "python",
   "nbconvert_exporter": "python",
   "pygments_lexer": "ipython3",
   "version": "3.7.8"
  }
 },
 "nbformat": 4,
 "nbformat_minor": 4
}
