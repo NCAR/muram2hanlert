{
 "cells": [
  {
   "cell_type": "code",
   "execution_count": 1,
   "metadata": {},
   "outputs": [],
   "source": [
    "import os\n",
    "import os.path\n",
    "import sys"
   ]
  },
  {
   "cell_type": "code",
   "execution_count": 2,
   "metadata": {},
   "outputs": [],
   "source": [
    "sys.path.extend([os.path.expanduser(\"~/muram/python_codes\"),\n",
    "                 os.path.expanduser(\"~/hanlert/python\"),\n",
    "                 os.path.expanduser(\"~\")])"
   ]
  },
  {
   "cell_type": "code",
   "execution_count": 3,
   "metadata": {},
   "outputs": [],
   "source": [
    "import numpy as np\n",
    "import matplotlib as mpl\n",
    "from matplotlib import pyplot as plt\n",
    "import shutil\n",
    "\n",
    "import muram\n",
    "import hanlert\n",
    "import muram2hanlert"
   ]
  },
  {
   "cell_type": "code",
   "execution_count": 4,
   "metadata": {},
   "outputs": [],
   "source": [
    "%matplotlib inline"
   ]
  },
  {
   "cell_type": "code",
   "execution_count": 5,
   "metadata": {},
   "outputs": [
    {
     "name": "stdout",
     "output_type": "stream",
     "text": [
      "import os.path\n",
      "import muram2hanlert as m2h\n",
      "import argparse\n",
      "\n",
      "# \"Cool Corona\" MURaM simulation\n",
      "# Smoothed with savgol_filter(x, 9, 1)\n",
      "# Sampled every 2 (every 32 km)\n",
      "# 70 height points\n",
      "# Velocities enabled\n",
      "\n",
      "dir3D = \"/glade/p/hao/radmhd/rempel/SSD_CHR/dyn_25x8Mm_16_pdmp_1_ext_zxy_pdm/3D\"\n",
      "jobroot = os.path.expanduser(\"~/muram2hanlert\")\n",
      "jobname = os.path.basename(__file__)[0:-3] # name of file, minus .py suffix\n",
      "iteration = 16000\n",
      "project = \"NHAO0016\"# \"P22100000\"\n",
      "email = \"egeland@ucar.edu\"\n",
      "res = 1536 # MURaM row/col resolution\n",
      "step = 8 # sampling frequency\n",
      "\n",
      "# Build ystart and ystop range from command line arguments\n"
     ]
    }
   ],
   "source": [
    "!head -n20 ~/muram2hanlert/launch/coolvel.py"
   ]
  },
  {
   "cell_type": "code",
   "execution_count": 6,
   "metadata": {},
   "outputs": [],
   "source": [
    "# MURaM locations\n",
    "dir2D = \"/glade/p/hao/radmhd/rempel/SSD_CHR/dyn_25x8Mm_16_pdmp_1_ext_zxy_pdm/2D\"\n",
    "dir3D = \"/glade/p/hao/radmhd/rempel/SSD_CHR/dyn_25x8Mm_16_pdmp_1_ext_zxy_pdm/2D\"\n",
    "iteration = 16000"
   ]
  },
  {
   "cell_type": "code",
   "execution_count": 7,
   "metadata": {},
   "outputs": [],
   "source": [
    "#mu_file = \"Stokes_1_1\"; mu_desc = 'limb'\n",
    "mu_file = \"Stokes_5_1\"; mu_desc = 'center'"
   ]
  },
  {
   "cell_type": "code",
   "execution_count": 8,
   "metadata": {},
   "outputs": [],
   "source": [
    "# Load a FAL-C Ca II calculation\n",
    "stokes_file = os.path.join(os.path.expanduser(\"~/hanlert/Outputs.opt6/B100.IRTCRD\"), mu_file)\n",
    "tmp = hanlert.io.read_stokes(stokes_file)\n",
    "stk_falc = np.zeros((4, tmp['I'].size))\n",
    "stk_falc[0] = tmp['I']\n",
    "stk_falc[1] = tmp['Q/I']\n",
    "stk_falc[2] = tmp['U/I']\n",
    "stk_falc[3] = tmp['V/I']"
   ]
  },
  {
   "cell_type": "code",
   "execution_count": 9,
   "metadata": {},
   "outputs": [],
   "source": [
    "def make_jobpath(jobroot, jobname, iteration, y, z):\n",
    "    colpath = muram2hanlert.make_colpath(iteration, y, z)\n",
    "    jobpath = os.path.join(jobroot, jobname, colpath)\n",
    "    return jobpath"
   ]
  },
  {
   "cell_type": "code",
   "execution_count": 24,
   "metadata": {},
   "outputs": [],
   "source": [
    "# TODO: implement ystop, zstop and use below\n",
    "def load_m2h_stokes(jobroot, jobname, iteration, mu_file, N, start, step, ystop=None, zstop=None):\n",
    "    jobpath = make_jobpath(jobroot, jobname, iteration, 0, 0)\n",
    "    stokes = hanlert.io.read_stokes(os.path.join(jobpath, mu_file))\n",
    "    stk_cube = np.ma.zeros((N, N, 4, stokes['I'].size))\n",
    "    stk_cube.mask = np.zeros_like(stk_cube, dtype='bool')\n",
    "    L = stokes['L']\n",
    "\n",
    "    for y in range(start, N*step, step):\n",
    "        for z in range(start, N*step, step):\n",
    "            iy = int(y/step)\n",
    "            iz = int(z/step)\n",
    "            jobpath = make_jobpath(jobroot, jobname, iteration, y, z)\n",
    "            stokes_file = os.path.join(jobpath, mu_file)\n",
    "            if os.path.exists(stokes_file):\n",
    "                stokes = hanlert.io.read_stokes(stokes_file)\n",
    "                stk_cube[iy, iz, 0] = stokes['I']\n",
    "                stk_cube[iy, iz, 1] = stokes['Q/I']\n",
    "                stk_cube[iy, iz, 2] = stokes['U/I']\n",
    "                stk_cube[iy, iz, 3] = stokes['V/I']\n",
    "            else:\n",
    "                stk_cube.mask[iy, iz, :] = True\n",
    "                print(stokes_file, \"does not exist, skipping\")\n",
    "    return L, stk_cube"
   ]
  },
  {
   "cell_type": "code",
   "execution_count": 20,
   "metadata": {},
   "outputs": [
    {
     "name": "stdout",
     "output_type": "stream",
     "text": [
      "/glade/p/hao/radmhd/csac/coolvel/iter_16000/Y_0000/Z_0192/Stokes_5_1 does not exist, skipping\n",
      "/glade/p/hao/radmhd/csac/coolvel/iter_16000/Y_0000/Z_0216/Stokes_5_1 does not exist, skipping\n",
      "/glade/p/hao/radmhd/csac/coolvel/iter_16000/Y_0000/Z_1232/Stokes_5_1 does not exist, skipping\n"
     ]
    }
   ],
   "source": [
    "jobroot = os.path.expanduser(\"/glade/p/hao/radmhd/csac\")\n",
    "jobname = 'coolvel'\n",
    "iteration = 16000\n",
    "N = 192\n",
    "start = 0\n",
    "step = 8\n",
    "L, stk_coolvel = load_m2h_stokes(jobroot, jobname, iteration, mu_file, N, start, step)\n",
    "stk_coolvel_mean = np.mean(stk_coolvel, axis=(0,1))"
   ]
  },
  {
   "cell_type": "code",
   "execution_count": 21,
   "metadata": {},
   "outputs": [],
   "source": [
    "jobroot = os.path.expanduser(\"/glade/p/hao/radmhd/csac\")\n",
    "jobname = 'every10'\n",
    "iteration = 12000\n",
    "N = 153\n",
    "start = 0\n",
    "step = 10\n",
    "L, stk_every10 = load_m2h_stokes(jobroot, jobname, iteration, mu_file, N, start, step)\n",
    "stk_every10_mean = np.mean(stk_every10, axis=(0,1))"
   ]
  },
  {
   "cell_type": "code",
   "execution_count": 22,
   "metadata": {},
   "outputs": [],
   "source": [
    "stk_every10_min = np.min(stk_every10, axis=(0,1))\n",
    "stk_every10_q1 = np.percentile(stk_every10, 25, axis=(0,1))\n",
    "stk_every10_med = np.percentile(stk_every10, 50, axis=(0,1))\n",
    "stk_every10_q3 = np.percentile(stk_every10, 75, axis=(0,1))\n",
    "stk_every10_max = np.max(stk_every10, axis=(0,1))"
   ]
  },
  {
   "cell_type": "code",
   "execution_count": 23,
   "metadata": {},
   "outputs": [],
   "source": [
    "stk_coolvel_min = np.min(stk_coolvel, axis=(0,1))\n",
    "stk_coolvel_q1 = np.percentile(stk_coolvel, 25, axis=(0,1))\n",
    "stk_coolvel_med = np.percentile(stk_coolvel, 50, axis=(0,1))\n",
    "stk_coolvel_q3 = np.percentile(stk_coolvel, 75, axis=(0,1))\n",
    "stk_coolvel_max = np.max(stk_coolvel, axis=(0,1))"
   ]
  },
  {
   "cell_type": "code",
   "execution_count": null,
   "metadata": {},
   "outputs": [],
   "source": [
    "def plot_CaII(L, stokes, line='K', dL=0.1, title=None, save=False, close=False, fig=None, c='k', legend=None, **kwargs):\n",
    "    \"\"\"Plot Ca II 5-level lines H, K, IRT1, IRT2, IRT3    \n",
    "    \"\"\"\n",
    "    \n",
    "    # Line centers that were computed from minimum of I\n",
    "    # TODO: recompute dynamically to handle Doppler shifts\n",
    "    K = 393.477713\n",
    "    H = 396.959134\n",
    "    IRT1 = 850.035829\n",
    "    IRT2 = 854.443791\n",
    "    IRT3 = 866.452017\n",
    "\n",
    "    selHK = (L >= K - dL) & (L <= H + dL)\n",
    "    selKcore = (L >= (K - dL)) & (L <= (K + dL))\n",
    "    selHcore = (L >= (H - dL)) & (L <= (H + dL))\n",
    "    selIRT = (L >= IRT1 - dL) & (L <= IRT3 + dL)\n",
    "    selIRT1 = (L >= IRT1 - dL) & (L <= IRT1 + dL)\n",
    "    selIRT2 = (L >= IRT2 - dL) & (L <= IRT2 + dL)\n",
    "    selIRT3 = (L >= IRT3 - dL) & (L <= IRT3 + dL)\n",
    "\n",
    "    line_params = {'K': (selKcore, K), \n",
    "             'H': (selHcore, H),\n",
    "             'IRT1': (selIRT1, IRT1),\n",
    "             'IRT2': (selIRT2, IRT2), \n",
    "             'IRT3': (selIRT3, IRT3)}\n",
    "    sel, center = line_params[line]\n",
    "    label = line\n",
    "    \n",
    "    ticks = np.linspace(center - dL, center + dL, 5)\n",
    "    if fig is None:\n",
    "        fig, ((ax1, ax2), (ax3, ax4)) = plt.subplots(2, 2, figsize=(11, 8.5))\n",
    "    else:\n",
    "        ax1, ax2, ax3, ax4 = fig.axes\n",
    "    ax1.plot(L[sel], stokes[0][sel], c=c, **kwargs)\n",
    "    ax2.plot(L[sel], stokes[3][sel], c=c, label=legend, **kwargs)\n",
    "    ax3.plot(L[sel], stokes[1][sel], c=c, **kwargs)\n",
    "    ax4.plot(L[sel], stokes[2][sel], c=c, **kwargs)\n",
    "\n",
    "    ax1.set_ylabel(\"I\")\n",
    "    ax2.set_ylabel(\"V/I\")\n",
    "    ax3.set_ylabel(\"Q/I\")\n",
    "    ax4.set_ylabel(\"U/I\")\n",
    "    for ax in (ax1, ax2, ax3, ax4):\n",
    "        ax.set_xticks(ticks)\n",
    "        ax.xaxis.set_major_formatter(mpl.ticker.FormatStrFormatter('%.2f'))\n",
    "        ax.set_xlabel('Wavelength [nm]')\n",
    "        \n",
    "    fig.tight_layout(rect=[0, 0.03, 1, 0.97])\n",
    "    if title is not None:\n",
    "        fig.suptitle(title + ' ' + label, size=16)\n",
    "    else:\n",
    "        fig.suptitle(label, size=16)\n",
    "        \n",
    "    if legend is not None:\n",
    "        ax2.legend(loc='upper right')    \n",
    "    \n",
    "    if save:\n",
    "        fig.savefig(label+'_'+save+\".pdf\", bbox_inches='tight')\n",
    "    if close:\n",
    "        plt.close(fig)\n",
    "    return fig"
   ]
  },
  {
   "cell_type": "code",
   "execution_count": null,
   "metadata": {},
   "outputs": [],
   "source": [
    "def plot_CaII_Idist(L, stokes, fillrange=None, min=None, max=None, line='K', dL=0.1, title=None, save=False, close=False, fig=None, c='k', legend=None, **kwargs):\n",
    "    \"\"\"Plot Ca II 5-level lines H, K, IRT1, IRT2, IRT3    \n",
    "    \"\"\"\n",
    "    \n",
    "    # Line centers that were computed from minimum of I\n",
    "    # TODO: recompute dynamically to handle Doppler shifts\n",
    "    K = 393.477713\n",
    "    H = 396.959134\n",
    "    IRT1 = 850.035829\n",
    "    IRT2 = 854.443791\n",
    "    IRT3 = 866.452017\n",
    "\n",
    "    selHK = (L >= K - dL) & (L <= H + dL)\n",
    "    selKcore = (L >= (K - dL)) & (L <= (K + dL))\n",
    "    selHcore = (L >= (H - dL)) & (L <= (H + dL))\n",
    "    selIRT = (L >= IRT1 - dL) & (L <= IRT3 + dL)\n",
    "    selIRT1 = (L >= IRT1 - dL) & (L <= IRT1 + dL)\n",
    "    selIRT2 = (L >= IRT2 - dL) & (L <= IRT2 + dL)\n",
    "    selIRT3 = (L >= IRT3 - dL) & (L <= IRT3 + dL)\n",
    "\n",
    "    line_params = {'K': (selKcore, K), \n",
    "             'H': (selHcore, H),\n",
    "             'IRT1': (selIRT1, IRT1),\n",
    "             'IRT2': (selIRT2, IRT2), \n",
    "             'IRT3': (selIRT3, IRT3)}\n",
    "    sel, center = line_params[line]\n",
    "    label = line\n",
    "    \n",
    "    ticks = np.linspace(center - dL, center + dL, 5)\n",
    "    if fig is None:\n",
    "        fig, ax1 = plt.subplots(figsize=(11, 8.5))\n",
    "    else:\n",
    "        (ax1,) = fig.axes\n",
    "    ax1.plot(L[sel], stokes[0][sel], c=c, label=legend, **kwargs)\n",
    "    \n",
    "    if fillrange is not None:\n",
    "        lo, hi = fillrange\n",
    "        ax1.fill_between(L[sel], lo[0][sel], hi[0][sel], color=c, alpha=0.2)\n",
    "        \n",
    "    if min is not None:\n",
    "        ax1.plot(L[sel], min[0][sel], color=c, ls=':')    \n",
    "    \n",
    "    if max is not None:\n",
    "        ax1.plot(L[sel], max[0][sel], color=c, ls=':')\n",
    "\n",
    "    ax1.set_ylabel(\"I\")\n",
    "\n",
    "    ax1.set_xticks(ticks)\n",
    "    ax1.xaxis.set_major_formatter(mpl.ticker.FormatStrFormatter('%.2f'))\n",
    "    ax1.set_xlabel('Wavelength [nm]')\n",
    "        \n",
    "    fig.tight_layout(rect=[0, 0.03, 1, 0.97])\n",
    "    if title is not None:\n",
    "        fig.suptitle(title + ' ' + label, size=16)\n",
    "    else:\n",
    "        fig.suptitle(label, size=16)\n",
    "        \n",
    "    if legend is not None:\n",
    "        ax1.legend(loc='upper right')    \n",
    "    \n",
    "    if save:\n",
    "        fig.savefig(label+'_'+save+\".pdf\", bbox_inches='tight')\n",
    "    if close:\n",
    "        plt.close(fig)\n",
    "    return fig"
   ]
  },
  {
   "cell_type": "code",
   "execution_count": null,
   "metadata": {},
   "outputs": [],
   "source": [
    "dL = 0.1\n",
    "for line in ('K', 'H', 'IRT1', 'IRT2', 'IRT3'):\n",
    "    fig = plot_CaII(L, stk_falc, line=line, c='k', dL=dL, legend='FALC 100G');\n",
    "    plot_CaII(L, stk_every10_med, line=line, c='b', dL=dL, fig=fig, legend='MURaM cool');\n",
    "    plot_CaII(L, stk_hotcorona_med, line=line, c='r', ls='--', dL=dL, fig=fig, legend='MURaM hot');\n",
    "    fig.savefig(f'cold_vs_hot_stokes_{line}_{mu_desc}.pdf')"
   ]
  },
  {
   "cell_type": "code",
   "execution_count": null,
   "metadata": {},
   "outputs": [],
   "source": [
    "dL = 0.1\n",
    "for line in ('K', 'H', 'IRT1', 'IRT2', 'IRT3'):\n",
    "    fig = plot_CaII_Idist(L, stk_falc, line=line, c='k', dL=dL, legend='FALC 100G');\n",
    "    plot_CaII_Idist(L, stk_every10_med, fillrange=(stk_every10_q1, stk_every10_q3), min=stk_every10_min, max=stk_every10_max, line=line, c='b', dL=dL, fig=fig, legend='MURaM cool');\n",
    "    plot_CaII_Idist(L, stk_hotcorona_med, fillrange=(stk_hotcorona_q1, stk_hotcorona_q3), min=stk_hotcorona_min, max=stk_hotcorona_max,line=line, c='r', ls='--', dL=dL, fig=fig, legend='MURaM hot');\n",
    "    fig.savefig(f'cold_vs_hot_Idist_{line}_{mu_desc}.pdf')"
   ]
  }
 ],
 "metadata": {
  "kernelspec": {
   "display_name": "NPL-3.7.5",
   "language": "python",
   "name": "npl-3.7.5"
  },
  "language_info": {
   "codemirror_mode": {
    "name": "ipython",
    "version": 3
   },
   "file_extension": ".py",
   "mimetype": "text/x-python",
   "name": "python",
   "nbconvert_exporter": "python",
   "pygments_lexer": "ipython3",
   "version": "3.7.5"
  }
 },
 "nbformat": 4,
 "nbformat_minor": 4
}
