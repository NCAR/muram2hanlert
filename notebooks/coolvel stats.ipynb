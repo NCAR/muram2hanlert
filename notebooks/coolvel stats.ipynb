{
 "cells": [
  {
   "cell_type": "markdown",
   "metadata": {},
   "source": [
    "# coolvel Stats\n",
    "\n",
    "In this notebook we analyze some statistics from the coolvel muram2hanlert computation"
   ]
  },
  {
   "cell_type": "code",
   "execution_count": 1,
   "metadata": {},
   "outputs": [],
   "source": [
    "import os\n",
    "import os.path\n",
    "import sys"
   ]
  },
  {
   "cell_type": "code",
   "execution_count": 2,
   "metadata": {},
   "outputs": [],
   "source": [
    "sys.path.extend([os.path.expanduser(\"~/muram/python_codes\"),\n",
    "                 os.path.expanduser(\"~/hanlert/python\"),\n",
    "                 os.path.expanduser(\"~\")])"
   ]
  },
  {
   "cell_type": "code",
   "execution_count": 3,
   "metadata": {},
   "outputs": [],
   "source": [
    "import numpy as np\n",
    "import matplotlib as mpl\n",
    "from matplotlib import pyplot as plt\n",
    "import shutil\n",
    "\n",
    "import muram\n",
    "import hanlert\n",
    "import muram2hanlert"
   ]
  },
  {
   "cell_type": "code",
   "execution_count": 4,
   "metadata": {},
   "outputs": [],
   "source": [
    "%matplotlib inline"
   ]
  },
  {
   "cell_type": "code",
   "execution_count": 5,
   "metadata": {},
   "outputs": [],
   "source": [
    "%load_ext autoreload"
   ]
  },
  {
   "cell_type": "code",
   "execution_count": 6,
   "metadata": {},
   "outputs": [],
   "source": [
    "%autoreload 2"
   ]
  },
  {
   "cell_type": "code",
   "execution_count": 7,
   "metadata": {},
   "outputs": [
    {
     "data": {
      "text/plain": [
       "244542"
      ]
     },
     "execution_count": 7,
     "metadata": {},
     "output_type": "execute_result"
    }
   ],
   "source": [
    "os.getpid() # for checking memory/CPU in terminal"
   ]
  },
  {
   "cell_type": "markdown",
   "metadata": {},
   "source": [
    "## Analyze coolvel Jobs"
   ]
  },
  {
   "cell_type": "code",
   "execution_count": 8,
   "metadata": {},
   "outputs": [],
   "source": [
    "jobroot = os.path.expanduser(\"~/scratch/muram2hanlert\")\n",
    "jobname = 'coolvel'\n",
    "iteration = 16000"
   ]
  },
  {
   "cell_type": "code",
   "execution_count": 9,
   "metadata": {},
   "outputs": [
    {
     "data": {
      "text/plain": [
       "('OK', 639)"
      ]
     },
     "execution_count": 9,
     "metadata": {},
     "output_type": "execute_result"
    }
   ],
   "source": [
    "muram2hanlert.job_status(jobroot, jobname, iteration, 0, 0)"
   ]
  },
  {
   "cell_type": "code",
   "execution_count": 10,
   "metadata": {},
   "outputs": [],
   "source": [
    "run_status = muram2hanlert.run_status(jobroot, jobname)"
   ]
  },
  {
   "cell_type": "code",
   "execution_count": 11,
   "metadata": {},
   "outputs": [
    {
     "name": "stdout",
     "output_type": "stream",
     "text": [
      "N: 192\n"
     ]
    }
   ],
   "source": [
    "N = len(run_status[iteration])\n",
    "print(\"N:\", N)"
   ]
  },
  {
   "cell_type": "code",
   "execution_count": 12,
   "metadata": {},
   "outputs": [
    {
     "name": "stdout",
     "output_type": "stream",
     "text": [
      "192 of 192 (100.00%) jobs finished OK\n"
     ]
    }
   ],
   "source": [
    "t_OK = []\n",
    "p_OK = []\n",
    "for (y, z), (status, t) in run_status[iteration].items():\n",
    "    if status == \"OK\":\n",
    "        t_OK.append(t)\n",
    "        p_OK.append((y, z))\n",
    "    else:\n",
    "        print(\"Job at\", (y, z), \"has status\", status, \"in\", t)\n",
    "t_OK = np.array(t_OK)\n",
    "p_OK = np.array(p_OK)\n",
    "ix_sort = np.argsort(t_OK)\n",
    "t_OK = t_OK[ix_sort]\n",
    "p_OK = p_OK[ix_sort]\n",
    "N_OK = t_OK.size\n",
    "print(f\"{N_OK} of {N} ({N_OK/N*100:0.2f}%) jobs finished OK\")"
   ]
  },
  {
   "cell_type": "code",
   "execution_count": 13,
   "metadata": {},
   "outputs": [
    {
     "name": "stdout",
     "output_type": "stream",
     "text": [
      "median time: 11.217 minutes\n",
      "median core-hours: 6.730 core-hours\n",
      "total time: 46.000 hours\n",
      "Core-hours: 1.656e+03 core-hours\n"
     ]
    },
    {
     "data": {
      "image/png": "[encoded data removed]",
      "text/plain": [
       "<Figure size 432x288 with 1 Axes>"
      ]
     },
     "metadata": {
      "needs_background": "light"
     },
     "output_type": "display_data"
    }
   ],
   "source": [
    "t_OK_med = np.median(t_OK / 60) # minutes\n",
    "ch_med = t_OK_med / 60 * 36 # core-hours; used 36 cores per job\n",
    "t_OK_sum = np.sum(t_OK / 3600) # hours\n",
    "ch_sum = t_OK_sum * 36 # core-hours; used 36 cores per job\n",
    "\n",
    "print(f\"median time: {t_OK_med:0.3f} minutes\")\n",
    "print(f\"median core-hours: {ch_med:0.3f} core-hours\")\n",
    "print(f\"total time: {t_OK_sum:0.3f} hours\")\n",
    "print(f\"Core-hours: {ch_sum:0.3e} core-hours\")\n",
    "\n",
    "fig, ax = plt.subplots(figsize=(6, 4))\n",
    "ax.hist(t_OK / 60., bins=np.arange(0, 41, 1), histtype='step', color='k', lw=2)\n",
    "ax.axvline(t_OK_med, c='r')\n",
    "ax.set_xlabel(\"Minutes\")\n",
    "ax.set_ylabel(\"N jobs\")\n",
    "ax.set_title(\"Time of Completed Jobs\")\n",
    "fig.savefig('coolvel_runhist.png')"
   ]
  }
 ],
 "metadata": {
  "kernelspec": {
   "display_name": "CMIP6 2019.10",
   "language": "python",
   "name": "cmip6-201910"
  },
  "language_info": {
   "codemirror_mode": {
    "name": "ipython",
    "version": 3
   },
   "file_extension": ".py",
   "mimetype": "text/x-python",
   "name": "python",
   "nbconvert_exporter": "python",
   "pygments_lexer": "ipython3",
   "version": "3.7.8"
  }
 },
 "nbformat": 4,
 "nbformat_minor": 4
}
